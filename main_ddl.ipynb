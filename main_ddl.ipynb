{
 "cells": [
  {
   "cell_type": "markdown",
   "metadata": {},
   "source": [
    "# Main_DDL\n",
    "---\n",
    "## This file is responsible for reading the raw data, cleaning it, and transforming the data into SQL files for implementation in the server containing the database\n",
    "\n",
    "### Import Statements"
   ]
  },
  {
   "cell_type": "code",
   "execution_count": 1,
   "metadata": {},
   "outputs": [],
   "source": [
    "import pandas as pd\n",
    "import os\n",
    "import openpyxl\n",
    "from myMethods import iter_file_paths, generate_ddl_from_file, process_txt_file, parse_FC_data"
   ]
  },
  {
   "cell_type": "markdown",
   "metadata": {},
   "source": [
    "### Reading and Cleaning Data"
   ]
  },
  {
   "cell_type": "code",
   "execution_count": null,
   "metadata": {},
   "outputs": [],
   "source": [
    "## Directory containing the data files\n",
    "DATA_dir = './Data_Selected/'\n",
    "output_dir = DATA_dir\n",
    "\n",
    "## Loop through every file in the data directory\n",
    "for filepath in iter_file_paths(DATA_dir):\n",
    "    \n",
    "    # file_path = os.path.join(DATA_dir, filepath)\n",
    "    out_name = filepath.lower().replace('.txt', '.xlsx')\n",
    "\n",
    "    ## process the text file and generate a DataFrame\n",
    "    try:\n",
    "        df = process_txt_file(filepath, _encoding= 'cp1252')\n",
    "        filename = os.path.basename(filepath)\n",
    "        print(f\"Successfully processed: {filename}\")\n",
    "        ## Parse the DataFrame to clean up the data\n",
    "        df = parse_FC_data(df)\n",
    "        print(f\"Successfully cleaned: {filename}\")\n",
    "    ## If the file is not a valid text file, skip it\n",
    "    except Exception as e:\n",
    "        print(f\"Error processing {os.path.basename(filepath)}: {e}\")\n",
    "    ## Export the DataFrame to an Excel file\n",
    "    with pd.ExcelWriter(out_name, engine='openpyxl', mode='w') as writer: df.to_excel(writer, header=False, index=False)\n",
    "    print(f\"Successfully exported: {filename} to {out_name}\")\n"
   ]
  },
  {
   "cell_type": "markdown",
   "metadata": {},
   "source": [
    "### Creating SQL DDL/DML scripts to transform the raw excel data into SQL tables"
   ]
  },
  {
   "cell_type": "code",
   "execution_count": null,
   "metadata": {},
   "outputs": [],
   "source": [
    "# Directory containing the data files\n",
    "data_dir = './Data_Selected'\n",
    "output_dir = './sql_scripts/ddl-dml/'\n",
    "\n",
    "# Create the output directory if it doesn't exist\n",
    "if not os.path.exists(output_dir):\n",
    "    os.makedirs(output_dir)\n",
    "\n",
    "# Loop through every file in the data directory using the iter_file_paths function\n",
    "for file_path in iter_file_paths(data_dir):\n",
    "    file_name = os.path.basename(file_path)\n",
    "    \n",
    "    # Process the file using your SQL DDL function\n",
    "    try:\n",
    "        _, sql_script = generate_ddl_from_file(file_path)\n",
    "    except Exception as e:\n",
    "        print(f\"Error processing {file_name}: {e}\")\n",
    "        continue\n",
    "    \n",
    "    # Build the output file name based on the original file's name\n",
    "    base_name, _ = os.path.splitext(file_name)\n",
    "    output_file = os.path.join(output_dir, base_name + '.sql')\n",
    "    \n",
    "    # Write the generated SQL script to the output file\n",
    "    with open(output_file, 'w') as f:\n",
    "        f.write(sql_script)\n",
    "    \n",
    "    print(f\"SQL script for {file_name} saved to {output_file}\")\n"
   ]
  },
  {
   "cell_type": "markdown",
   "metadata": {},
   "source": [
    "### cells below are explicitly for testing / debugging purposes"
   ]
  },
  {
   "cell_type": "code",
   "execution_count": null,
   "metadata": {},
   "outputs": [],
   "source": [
    "## Directory containing the data files\n",
    "DATA_dir = './Data_Selected/'\n",
    "_file= 'AR79C.txt'\n",
    "output_dir= '../testing_directory/'\n",
    "file_path = os.path.join(DATA_dir, _file)\n",
    "out_name = os.path.join(output_dir, _file.lower().replace('.txt', '.xlsx'))\n",
    "\n",
    "## testing the process_txt_file function\n",
    "try:\n",
    "    df = process_txt_file(file_path, _encoding= 'cp1252')\n",
    "    filename = os.path.basename(file_path)\n",
    "    print(f\"Successfully processed: {filename}\")\n",
    "## If the file is not a valid text file, skip it\n",
    "except Exception as e:\n",
    "    print(f\"Error processing {os.path.basename(file_path)}: {e}\")\n",
    "## Parse the DataFrame to clean up the data\n",
    "df = parse_FC_data(df)\n",
    "## Export the DataFrame to an Excel file\n",
    "df.to_excel(out_name, header=False, index=False)\n"
   ]
  }
 ],
 "metadata": {
  "kernelspec": {
   "display_name": ".venv",
   "language": "python",
   "name": "python3"
  },
  "language_info": {
   "codemirror_mode": {
    "name": "ipython",
    "version": 3
   },
   "file_extension": ".py",
   "mimetype": "text/x-python",
   "name": "python",
   "nbconvert_exporter": "python",
   "pygments_lexer": "ipython3",
   "version": "3.12.8"
  }
 },
 "nbformat": 4,
 "nbformat_minor": 2
}
