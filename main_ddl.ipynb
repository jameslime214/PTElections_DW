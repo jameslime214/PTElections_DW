{
 "cells": [
  {
   "cell_type": "markdown",
   "metadata": {},
   "source": [
    "# Main_DDL\n",
    "---\n",
    "## This file is responsible for reading the raw data, cleaning it, and transforming the data into SQL files for implementation in the server containing the database\n",
    "\n",
    "### Import Statements"
   ]
  },
  {
   "cell_type": "code",
   "execution_count": 1,
   "metadata": {},
   "outputs": [],
   "source": [
    "import pandas as pd\n",
    "import os\n",
    "import openpyxl\n",
    "from myMethods import (\n",
    "    iter_file_paths,\n",
    "    extract_dataframe_from_txt,\n",
    "    extract_dataframe_from_excel,\n",
    "    parse_FC_data, ## may be deprecated\n",
    "    save_dataframe_to_excel,\n",
    "    generate_ddl_from_file, ## may be deprecated\n",
    "    process_txt_file ## will become deprecated\n",
    ")"
   ]
  },
  {
   "cell_type": "markdown",
   "metadata": {},
   "source": [
    "### Reading and Cleaning Data"
   ]
  },
  {
   "cell_type": "code",
   "execution_count": null,
   "metadata": {},
   "outputs": [],
   "source": [
    "## Directory containing the data files\n",
    "DATA_dir = './Data_Selected/'\n",
    "output_dir = DATA_dir\n",
    "\n",
    "## Loop through every file in the data directory\n",
    "for filepath in iter_file_paths(DATA_dir):\n",
    "    \n",
    "    # file_path = os.path.join(DATA_dir, filepath)\n",
    "    out_name = filepath.lower().replace('.txt', '.xlsx')\n",
    "\n",
    "    ## process the text file and generate a DataFrame\n",
    "    try:\n",
    "        df = process_txt_file(filepath, _encoding= 'cp1252')\n",
    "        filename = os.path.basename(filepath)\n",
    "        print(f\"Successfully processed: {filename}\")\n",
    "        ## Parse the DataFrame to clean up the data\n",
    "        df = parse_FC_data(df)\n",
    "        print(f\"Successfully cleaned: {filename}\")\n",
    "    ## If the file is not a valid text file, skip it\n",
    "    except Exception as e:\n",
    "        print(f\"Error processing {os.path.basename(filepath)}: {e}\")\n",
    "    ## Export the DataFrame to an Excel file\n",
    "    with pd.ExcelWriter(out_name, engine='openpyxl', mode='w') as writer: df.to_excel(writer, header=False, index=False)\n",
    "    print(f\"Successfully exported: {filename} to {out_name}\")\n"
   ]
  },
  {
   "cell_type": "markdown",
   "metadata": {},
   "source": [
    "### Creating SQL DDL/DML scripts to transform the raw excel data into SQL tables"
   ]
  },
  {
   "cell_type": "code",
   "execution_count": null,
   "metadata": {},
   "outputs": [],
   "source": [
    "# Directory containing the data files\n",
    "data_dir = './Data_Selected'\n",
    "output_dir = './sql_scripts/ddl-dml/'\n",
    "\n",
    "# Create the output directory if it doesn't exist\n",
    "if not os.path.exists(output_dir):\n",
    "    os.makedirs(output_dir)\n",
    "\n",
    "# Loop through every file in the data directory using the iter_file_paths function\n",
    "for file_path in iter_file_paths(data_dir):\n",
    "    file_name = os.path.basename(file_path)\n",
    "    \n",
    "    # Process the file using your SQL DDL function\n",
    "    try:\n",
    "        _, sql_script = generate_ddl_from_file(file_path)\n",
    "    except Exception as e:\n",
    "        print(f\"Error processing {file_name}: {e}\")\n",
    "        continue\n",
    "    \n",
    "    # Build the output file name based on the original file's name\n",
    "    base_name, _ = os.path.splitext(file_name)\n",
    "    output_file = os.path.join(output_dir, base_name + '.sql')\n",
    "    \n",
    "    # Write the generated SQL script to the output file\n",
    "    with open(output_file, 'w') as f:\n",
    "        f.write(sql_script)\n",
    "    \n",
    "    print(f\"SQL script for {file_name} saved to {output_file}\")\n"
   ]
  },
  {
   "cell_type": "markdown",
   "metadata": {},
   "source": [
    "### cells below are explicitly for testing / debugging purposes"
   ]
  },
  {
   "cell_type": "code",
   "execution_count": null,
   "metadata": {},
   "outputs": [],
   "source": [
    "\n",
    "## Define directories\n",
    "DATA_dir = './DATA FILES/Source_Data/'\n",
    "extracted_data_dir = './DATA FILES/Extracted_Data/'\n",
    "\n",
    "## Create output directories if they don't exist\n",
    "os.makedirs(extracted_data_dir, exist_ok=True)\n",
    "\n",
    "## List to store tuples of (DataFrame, file_type, file_name)\n",
    "dataframe_infos = []\n",
    "\n",
    "## Extract data from all files\n",
    "for file_path in iter_file_paths(DATA_dir):\n",
    "    file_name = os.path.basename(file_path)\n",
    "    base_name, ext = os.path.splitext(file_name)\n",
    "    \n",
    "    try:\n",
    "        ## Extract data based on file type\n",
    "        if ext.lower() == '.txt':\n",
    "            df = extract_dataframe_from_txt(file_path)\n",
    "            print(f\"Successfully extracted from text file: {file_name}\")\n",
    "        elif ext.lower() in ['.xls', '.xlsx']:\n",
    "            df = extract_dataframe_from_excel(file_path)\n",
    "            print(f\"Successfully extracted from Excel file: {file_name}\")\n",
    "        else:\n",
    "            print(f\"Skipping unsupported file: {file_name}\")\n",
    "            continue\n",
    "        \n",
    "        ## Store the DataFrame with its metadata\n",
    "        dataframe_infos.append((df, ext.lower(), base_name))\n",
    "    except Exception as e:\n",
    "        print(f\"Error processing {file_name}: {e}\")\n",
    "print(dataframe_infos)\n",
    "\n",
    "## Save all DataFrames to Excel files in the Extracted_Data directory\n",
    "for df, ext, base_name in dataframe_infos:\n",
    "    output_path = os.path.join(extracted_data_dir, f\"{base_name}.xlsx\")\n",
    "    try:\n",
    "        save_dataframe_to_excel(df, output_path)\n",
    "        print(f\"Successfully saved: {base_name}.xlsx to Extracted_Data folder\")\n",
    "    except Exception as e:\n",
    "        print(f\"Error saving {base_name}.xlsx: {e}\")"
   ]
  }
 ],
 "metadata": {
  "kernelspec": {
   "display_name": ".venv",
   "language": "python",
   "name": "python3"
  },
  "language_info": {
   "codemirror_mode": {
    "name": "ipython",
    "version": 3
   },
   "file_extension": ".py",
   "mimetype": "text/x-python",
   "name": "python",
   "nbconvert_exporter": "python",
   "pygments_lexer": "ipython3",
   "version": "3.12.8"
  }
 },
 "nbformat": 4,
 "nbformat_minor": 2
}
