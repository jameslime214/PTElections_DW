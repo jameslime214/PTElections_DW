{
 "cells": [
  {
   "cell_type": "code",
   "execution_count": 1,
   "metadata": {},
   "outputs": [],
   "source": [
    "# import statements\n",
    "import psycopg2\n",
    "from psycopg2.extras import execute_values\n",
    "from myMethods import run_sql_in_server, iter_file_paths, read_data_from_table"
   ]
  },
  {
   "cell_type": "code",
   "execution_count": 2,
   "metadata": {},
   "outputs": [],
   "source": [
    "# Database connection details\n",
    "## get server login details\n",
    "server_user = input(f'Enter username: ')\n",
    "server_pass = input(f'Enter password: ')\n",
    "\n",
    "## get database login details\n",
    "DB_CONFIG = {\n",
    "    \"dbname\": \"defaultdb\",\n",
    "    \"user\": server_user,\n",
    "    \"password\": server_pass,\n",
    "    \"host\": \"project-elections-dw-project-elections-dw.j.aivencloud.com\",\n",
    "    \"port\": \"27706\"\n",
    "}\n",
    "\n",
    "## Connect to the database\n",
    "conn = psycopg2.connect(**DB_CONFIG)\n",
    "cur = conn.cursor()"
   ]
  },
  {
   "cell_type": "code",
   "execution_count": null,
   "metadata": {},
   "outputs": [
    {
     "ename": "ModuleNotFoundError",
     "evalue": "No module named 'main_ddl'",
     "output_type": "error",
     "traceback": [
      "\u001b[31m---------------------------------------------------------------------------\u001b[39m",
      "\u001b[31mModuleNotFoundError\u001b[39m                       Traceback (most recent call last)",
      "\u001b[36mCell\u001b[39m\u001b[36m \u001b[39m\u001b[32mIn[3]\u001b[39m\u001b[32m, line 1\u001b[39m\n\u001b[32m----> \u001b[39m\u001b[32m1\u001b[39m \u001b[38;5;28;01mfrom\u001b[39;00m\u001b[38;5;250m \u001b[39m\u001b[34;01mmain_ddl\u001b[39;00m\u001b[38;5;250m \u001b[39m\u001b[38;5;28;01mimport\u001b[39;00m iter_file_paths\n\u001b[32m      3\u001b[39m sql_dir = \u001b[33m'\u001b[39m\u001b[33m./sql_scripts/ddl-dml/\u001b[39m\u001b[33m'\u001b[39m\n\u001b[32m      4\u001b[39m \u001b[38;5;28;01mfor\u001b[39;00m sql_file \u001b[38;5;129;01min\u001b[39;00m iter_file_paths(sql_dir):\n",
      "\u001b[31mModuleNotFoundError\u001b[39m: No module named 'main_ddl'"
     ]
    }
   ],
   "source": [
    "# run SQL files\n",
    "sql_dir = './sql_scripts/ddl-dml/'\n",
    "for sql_file in iter_file_paths(sql_dir):\n",
    "    try:\n",
    "        run_sql_in_server(sql_file)\n",
    "        print(f\"Successfully executed: {sql_file}\")\n",
    "        conn.commit()\n",
    "    except Exception as e:\n",
    "        print(f\"Error executing {sql_file}: {str(e)}\")\n",
    "        conn.rollback()"
   ]
  }
 ],
 "metadata": {
  "kernelspec": {
   "display_name": ".venv",
   "language": "python",
   "name": "python3"
  },
  "language_info": {
   "codemirror_mode": {
    "name": "ipython",
    "version": 3
   },
   "file_extension": ".py",
   "mimetype": "text/x-python",
   "name": "python",
   "nbconvert_exporter": "python",
   "pygments_lexer": "ipython3",
   "version": "3.12.8"
  }
 },
 "nbformat": 4,
 "nbformat_minor": 2
}
