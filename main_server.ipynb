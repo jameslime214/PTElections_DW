{
 "cells": [
  {
   "cell_type": "markdown",
   "metadata": {},
   "source": [
    "# Main_Server\n",
    "---\n",
    "## This file is responsible for establishing the connection to the server in order to interact with the database contained within.\n",
    "### Here we can write tables to the server as well as read tables from the server and perform queries.\n",
    "---\n",
    "### Import Statements"
   ]
  },
  {
   "cell_type": "code",
   "execution_count": 1,
   "metadata": {},
   "outputs": [],
   "source": [
    "# import statements\n",
    "import psycopg2\n",
    "from psycopg2.extras import execute_values\n",
    "from myMethods import run_sql_in_server, iter_file_paths, read_data_from_table"
   ]
  },
  {
   "cell_type": "markdown",
   "metadata": {},
   "source": [
    "### Establishing connection to database"
   ]
  },
  {
   "cell_type": "code",
   "execution_count": null,
   "metadata": {},
   "outputs": [],
   "source": [
    "## get server login details\n",
    "server_user = input(f'Enter username: ')\n",
    "server_pass = input(f'Enter password: ')\n",
    "\n",
    "## get database login configuration\n",
    "DB_CONFIG = {\n",
    "    \"dbname\": \"defaultdb\",\n",
    "    \"user\": server_user,\n",
    "    \"password\": server_pass,\n",
    "    \"host\": \"project-elections-dw-project-elections-dw.j.aivencloud.com\",\n",
    "    \"port\": \"27706\"\n",
    "}\n",
    "\n",
    "## Connect to the database\n",
    "conn = psycopg2.connect(**DB_CONFIG)\n",
    "cur = conn.cursor()"
   ]
  },
  {
   "cell_type": "code",
   "execution_count": null,
   "metadata": {},
   "outputs": [],
   "source": [
    "# run SQL files\n",
    "sql_dir = './sql_scripts/ddl-dml/'  # Directory containing SQL files\n",
    "for sql_file in iter_file_paths(sql_dir):\n",
    "    try:\n",
    "        run_sql_in_server(sql_file, cur)\n",
    "        print(f\"Successfully executed: {sql_file}\")\n",
    "        conn.commit()\n",
    "    except Exception as e:\n",
    "        print(f\"Error executing {sql_file}: {str(e)}\")\n",
    "        conn.rollback()"
   ]
  },
  {
   "cell_type": "markdown",
   "metadata": {},
   "source": [
    "### cells below are explicitly for testing / debugging purposes"
   ]
  },
  {
   "cell_type": "code",
   "execution_count": null,
   "metadata": {},
   "outputs": [],
   "source": [
    "read_data_from_table('ar_1985', cur)\n",
    "print(f'\\n\\n')\n",
    "read_data_from_table('ar_1987', cur)\n",
    "print(f'\\n\\n')\n",
    "read_data_from_table('ar_1991', cur)\n",
    "print(f'\\n\\n')\n",
    "read_data_from_table('ar_1999', cur)\n",
    "print(f'\\n\\n')\n",
    "read_data_from_table('ar_2002', cur)\n",
    "print(f'\\n\\n')\n",
    "read_data_from_table('ar_2005', cur)\n",
    "print(f'\\n\\n')"
   ]
  }
 ],
 "metadata": {
  "kernelspec": {
   "display_name": ".venv",
   "language": "python",
   "name": "python3"
  },
  "language_info": {
   "codemirror_mode": {
    "name": "ipython",
    "version": 3
   },
   "file_extension": ".py",
   "mimetype": "text/x-python",
   "name": "python",
   "nbconvert_exporter": "python",
   "pygments_lexer": "ipython3",
   "version": "3.12.8"
  }
 },
 "nbformat": 4,
 "nbformat_minor": 2
}
