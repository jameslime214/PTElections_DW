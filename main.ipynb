{
 "cells": [
  {
   "cell_type": "code",
   "execution_count": 5,
   "metadata": {},
   "outputs": [],
   "source": [
    "import psycopg2\n",
    "import pandas as pd\n",
    "import numpy as np\n",
    "from psycopg2.extras import execute_values\n",
    "import os"
   ]
  },
  {
   "cell_type": "code",
   "execution_count": null,
   "metadata": {},
   "outputs": [],
   "source": [
    "# Database connection details\n",
    "## get server login details\n",
    "server_user = input(f'Enter username: ')\n",
    "server_pass = input(f'Enter password: ')\n",
    "\n",
    "## get database login details\n",
    "DB_CONFIG = {\n",
    "    \"dbname\": \"Elections\",\n",
    "    \"user\": server_user,\n",
    "    \"password\": server_pass,\n",
    "    \"host\": \"project-elections-dw-project-elections-dw.j.aivencloud.com\",\n",
    "    \"port\": \"27706\"\n",
    "}\n",
    "\n",
    "## Connect to the database\n",
    "conn = psycopg2.connect(**DB_CONFIG)\n",
    "cur = conn.cursor()"
   ]
  },
  {
   "cell_type": "code",
   "execution_count": null,
   "metadata": {},
   "outputs": [],
   "source": [
    "\n",
    "def generate_ddl_from_file(file_path):\n",
    "    \"\"\"\n",
    "    Generate SQL DDL from a CSV or Excel file\n",
    "    \n",
    "    Args:\n",
    "        file_path (str): Path to the input file (.csv, .xls, or .xlsx)\n",
    "    \n",
    "    Returns:\n",
    "        str: SQL DDL statement\n",
    "    \"\"\"\n",
    "    \n",
    "    # Extract the file extension using os.path.splitext\n",
    "    _, ext = os.path.splitext(file_path)\n",
    "    file_extension = ext.lower()[1:]  # Remove the leading dot\n",
    "\n",
    "    if file_extension == 'csv':\n",
    "        df = pd.read_csv(file_path)\n",
    "    elif file_extension in ['xls', 'xlsx']:\n",
    "        df = pd.read_excel(file_path)\n",
    "    else:\n",
    "        raise ValueError(\"Unsupported file format. Please use .csv, .xls, or .xlsx files\")\n",
    "\n",
    "    dtype_mapping = {\n",
    "        'object': 'TEXT',\n",
    "        'int64': 'INTEGER',\n",
    "        'float64': 'NUMERIC',\n",
    "        'datetime64[ns]': 'TIMESTAMP',\n",
    "        'bool': 'BOOLEAN'\n",
    "    }\n",
    "    \n",
    "    # Use os.path.basename and os.path.splitext to extract the table name\n",
    "    table_name = os.path.splitext(os.path.basename(file_path))[0].lower()\n",
    "    columns = []\n",
    "    for column, dtype in df.dtypes.items():\n",
    "        sql_type = dtype_mapping.get(str(dtype), 'TEXT')\n",
    "        columns.append(f'    \"{column}\" {sql_type}')\n",
    "    \n",
    "    ddl = f\"CREATE TABLE IF NOT EXISTS {table_name} (\\n\"\n",
    "    ddl += \",\\n\".join(columns)\n",
    "    ddl += \"\\n);\"\n",
    "    \n",
    "    return df, ddl\n"
   ]
  },
  {
   "cell_type": "code",
   "execution_count": null,
   "metadata": {},
   "outputs": [
    {
     "name": "stdout",
     "output_type": "stream",
     "text": [
      "CREATE TABLE IF NOT EXISTS ar_1999 (\n",
      "    \"CODIGO\" INTEGER,\n",
      "    \"DIST_CONC_FREG\" TEXT,\n",
      "    \"T_ELEI\" TEXT,\n",
      "    \"D_ELEI\" TEXT,\n",
      "    \"SIGLA\" TEXT,\n",
      "    \"T_DADOS\" TEXT,\n",
      "    \"VOTOS\" INTEGER,\n",
      "    \"P_VOTOS\" NUMERIC,\n",
      "    \"MANDATOS\" INTEGER\n",
      ");\n"
     ]
    }
   ],
   "source": [
    "_, test_sql_ddl = generate_ddl_from_file('../OriginalMAIdata/ar_1999.xls')\n",
    "print(test_sql_ddl)\n",
    "ddl_path = './sql_scripts/ddl_script.sql'\n",
    "with open(ddl_path, 'w') as f:\n",
    "    f.write(test_sql_ddl)\n"
   ]
  },
  {
   "cell_type": "code",
   "execution_count": null,
   "metadata": {},
   "outputs": [],
   "source": [
    "## Run SQL File\n",
    "def run_sql_file(file_path):\n",
    "    with open(file_path, 'r') as file:\n",
    "        cur.execute(file.read())\n",
    "run_sql_file('dimension_tables_init.sql')"
   ]
  }
 ],
 "metadata": {
  "kernelspec": {
   "display_name": ".venv",
   "language": "python",
   "name": "python3"
  },
  "language_info": {
   "codemirror_mode": {
    "name": "ipython",
    "version": 3
   },
   "file_extension": ".py",
   "mimetype": "text/x-python",
   "name": "python",
   "nbconvert_exporter": "python",
   "pygments_lexer": "ipython3",
   "version": "3.12.8"
  }
 },
 "nbformat": 4,
 "nbformat_minor": 2
}
