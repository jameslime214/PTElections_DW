{
 "cells": [
  {
   "cell_type": "code",
   "execution_count": 1,
   "metadata": {},
   "outputs": [],
   "source": [
    "import psycopg2\n",
    "import pandas as pd\n",
    "import numpy as np\n",
    "from psycopg2.extras import execute_values"
   ]
  },
  {
   "cell_type": "code",
   "execution_count": null,
   "metadata": {},
   "outputs": [],
   "source": [
    "# Database connection details\n",
    "## get server login details\n",
    "server_user = input(f'Enter username: ')\n",
    "server_pass = input(f'Enter password: ')\n",
    "\n",
    "## get database login details\n",
    "DB_CONFIG = {\n",
    "    \"dbname\": \"ElectionsDW\",\n",
    "    \"user\": server_user,\n",
    "    \"password\": server_pass,\n",
    "    \"host\": \"project-elections-dw-project-elections-dw.j.aivencloud.com\",\n",
    "    \"port\": \"27706\"\n",
    "}"
   ]
  },
  {
   "cell_type": "code",
   "execution_count": 5,
   "metadata": {},
   "outputs": [],
   "source": [
    "## Connect to the database\n",
    "conn = psycopg2.connect(**DB_CONFIG)\n",
    "cur = conn.cursor()\n",
    "\n",
    "## Run SQL File\n",
    "def run_sql_file(file_path):\n",
    "    with open(file_path, 'r') as file:\n",
    "        cur.execute(file.read())\n",
    "        \n",
    "run_sql_file('dimension_tables_init.sql')"
   ]
  }
 ],
 "metadata": {
  "kernelspec": {
   "display_name": ".venv",
   "language": "python",
   "name": "python3"
  },
  "language_info": {
   "codemirror_mode": {
    "name": "ipython",
    "version": 3
   },
   "file_extension": ".py",
   "mimetype": "text/x-python",
   "name": "python",
   "nbconvert_exporter": "python",
   "pygments_lexer": "ipython3",
   "version": "3.12.8"
  }
 },
 "nbformat": 4,
 "nbformat_minor": 2
}
