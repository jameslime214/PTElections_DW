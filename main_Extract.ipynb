{
 "cells": [
  {
   "cell_type": "markdown",
   "metadata": {},
   "source": [
    "# Main_DDL\n",
    "---\n",
    "## This file is responsible for reading the raw data, cleaning it, and transforming the data into SQL files for implementation in the server containing the database\n",
    "\n",
    "### Import Statements"
   ]
  },
  {
   "cell_type": "code",
   "execution_count": 1,
   "metadata": {},
   "outputs": [],
   "source": [
    "import pandas as pd\n",
    "import os\n",
    "import io\n",
    "import openpyxl\n",
    "from myMethods import (\n",
    "    iter_file_paths,\n",
    "    extract_dataframe_from_txt,\n",
    "    extract_dataframe_from_excel,\n",
    "    parse_FC_data_1,\n",
    "    parse_FC_data_2,\n",
    "    parse_FC_data_3,\n",
    "    save_dataframe_to_excel,\n",
    "    generate_ddl_from_file, ## may be deprecated\n",
    ")"
   ]
  },
  {
   "cell_type": "markdown",
   "metadata": {},
   "source": [
    "### Reading the Data\n",
    "#### Data from DATA FILES/Source_Data is extracted into DATA FILES/Extracted_Data"
   ]
  },
  {
   "cell_type": "code",
   "execution_count": null,
   "metadata": {},
   "outputs": [],
   "source": [
    "\n",
    "## Define directories\n",
    "DATA_dir = './DATA FILES/Source_Data/'\n",
    "extracted_data_dir = './DATA FILES/Extracted_Data/'\n",
    "\n",
    "## Create output directories if they don't exist\n",
    "os.makedirs(extracted_data_dir, exist_ok=True)\n",
    "\n",
    "## List to store tuples of (DataFrame, file_type, file_name)\n",
    "dataframe_infos = []\n",
    "\n",
    "## Extract data from all files\n",
    "for file_path in iter_file_paths(DATA_dir):\n",
    "    file_name = os.path.basename(file_path)\n",
    "    base_name, ext = os.path.splitext(file_name)\n",
    "    \n",
    "    try:\n",
    "        ## Extract data based on file type\n",
    "        if ext.lower() == '.txt':\n",
    "            df = extract_dataframe_from_txt(file_path, _encoding='cp1252')\n",
    "            print(f\"Successfully extracted from text file: {file_name}\")\n",
    "        elif ext.lower() in ['.xls', '.xlsx']:\n",
    "            df = extract_dataframe_from_excel(file_path)\n",
    "            print(f\"Successfully extracted from Excel file: {file_name}\")\n",
    "        else:\n",
    "            print(f\"Skipping unsupported file: {file_name}\")\n",
    "            continue\n",
    "        \n",
    "        ## Store the DataFrame with its metadata\n",
    "        dataframe_infos.append([df.info(buf= io.StringIO()), ext.lower(), base_name])\n",
    "        \n",
    "        ## Export the DataFrame to Excel\n",
    "        output_path = os.path.join(extracted_data_dir, f\"{base_name}.xlsx\")\n",
    "        save_dataframe_to_excel(df, output_path)\n",
    "        \n",
    "    ## Handle specific exceptions for parsing\n",
    "    except Exception as e:\n",
    "        print(f\"Error processing {file_name}: {e}\")\n"
   ]
  },
  {
   "cell_type": "code",
   "execution_count": 2,
   "metadata": {},
   "outputs": [
    {
     "ename": "NameError",
     "evalue": "name 'dataframe_infos' is not defined",
     "output_type": "error",
     "traceback": [
      "\u001b[31m---------------------------------------------------------------------------\u001b[39m",
      "\u001b[31mNameError\u001b[39m                                 Traceback (most recent call last)",
      "\u001b[36mCell\u001b[39m\u001b[36m \u001b[39m\u001b[32mIn[2]\u001b[39m\u001b[32m, line 2\u001b[39m\n\u001b[32m      1\u001b[39m \u001b[38;5;66;03m## check dataframes info\u001b[39;00m\n\u001b[32m----> \u001b[39m\u001b[32m2\u001b[39m \u001b[38;5;28;01mfor\u001b[39;00m df_info, ext, base_name \u001b[38;5;129;01min\u001b[39;00m \u001b[43mdataframe_infos\u001b[49m:\n\u001b[32m      3\u001b[39m     \u001b[38;5;28mprint\u001b[39m(\u001b[33mf\u001b[39m\u001b[33m\"\u001b[39m\u001b[33mDataFrame info for \u001b[39m\u001b[38;5;132;01m{\u001b[39;00mbase_name\u001b[38;5;132;01m}\u001b[39;00m\u001b[33m:\u001b[39m\u001b[33m\"\u001b[39m)\n\u001b[32m      4\u001b[39m     \u001b[38;5;28mprint\u001b[39m(df_info)\n",
      "\u001b[31mNameError\u001b[39m: name 'dataframe_infos' is not defined"
     ]
    }
   ],
   "source": [
    "## check dataframes info\n",
    "for df_info, ext, base_name in dataframe_infos:\n",
    "    print(f\"DataFrame info for {base_name}:\")\n",
    "    print(df_info)\n",
    "    print(f\"Source file name with extension: {base_name}{ext}\")"
   ]
  },
  {
   "cell_type": "markdown",
   "metadata": {},
   "source": [
    "### Cleaning the Data\n",
    "#### Data from DATA FILES/Extracted_Data is cleaned and the clean data is saved into DATA FILES/Cleaned_Data"
   ]
  },
  {
   "cell_type": "code",
   "execution_count": null,
   "metadata": {},
   "outputs": [],
   "source": [
    "## cleaning data block"
   ]
  },
  {
   "cell_type": "markdown",
   "metadata": {},
   "source": [
    "### cells below are explicitly for testing / debugging purposes"
   ]
  },
  {
   "cell_type": "code",
   "execution_count": 5,
   "metadata": {},
   "outputs": [
    {
     "name": "stdout",
     "output_type": "stream",
     "text": [
      "Successfully saved: ./DATA FILES/Extracted_Data/Ar76c.xlsx to Extracted_Data folder\n"
     ]
    },
    {
     "data": {
      "text/plain": [
       "'./DATA FILES/Extracted_Data/Ar76c.xlsx'"
      ]
     },
     "execution_count": 5,
     "metadata": {},
     "output_type": "execute_result"
    }
   ],
   "source": [
    "## testing format of Ar76c.txt file\n",
    "## Read the file and extract the DataFrame\n",
    "file_path = './DATA FILES/Source_Data/Ar76c.txt'\n",
    "df = extract_dataframe_from_txt(file_path, _encoding='cp1252')\n",
    "save_dataframe_to_excel(df, './DATA FILES/Extracted_Data/Ar76c.xlsx')"
   ]
  }
 ],
 "metadata": {
  "kernelspec": {
   "display_name": ".venv",
   "language": "python",
   "name": "python3"
  },
  "language_info": {
   "codemirror_mode": {
    "name": "ipython",
    "version": 3
   },
   "file_extension": ".py",
   "mimetype": "text/x-python",
   "name": "python",
   "nbconvert_exporter": "python",
   "pygments_lexer": "ipython3",
   "version": "3.12.8"
  }
 },
 "nbformat": 4,
 "nbformat_minor": 2
}
