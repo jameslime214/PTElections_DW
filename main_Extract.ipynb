{
 "cells": [
  {
   "cell_type": "markdown",
   "metadata": {},
   "source": [
    "# Main_DDL\n",
    "---\n",
    "## This file is responsible for reading the raw data, cleaning it, and transforming the data into SQL files for implementation in the server containing the database\n",
    "\n",
    "### Import Statements"
   ]
  },
  {
   "cell_type": "code",
   "execution_count": 1,
   "metadata": {},
   "outputs": [],
   "source": [
    "import pandas as pd\n",
    "import os\n",
    "import openpyxl\n",
    "from myMethods import (\n",
    "    iter_file_paths,\n",
    "    extract_dataframe_from_txt,\n",
    "    extract_dataframe_from_excel,\n",
    "    parse_FC_data, ## may be deprecated\n",
    "    save_dataframe_to_excel,\n",
    "    generate_ddl_from_file, ## may be deprecated\n",
    "    process_txt_file ## will become deprecated\n",
    ")"
   ]
  },
  {
   "cell_type": "markdown",
   "metadata": {},
   "source": [
    "### Reading the Data\n",
    "#### Data from DATA FILES/Source_Data is extracted into DATA FILES/Extracted_Data"
   ]
  },
  {
   "cell_type": "code",
   "execution_count": 3,
   "metadata": {},
   "outputs": [
    {
     "name": "stdout",
     "output_type": "stream",
     "text": [
      "Successfully extracted from text file: Ar76c.txt\n",
      "Successfully extracted from text file: Ar76f.txt\n",
      "Successfully extracted from text file: AR79C.TXT\n",
      "Successfully extracted from text file: AR79F.TXT\n",
      "Successfully extracted from text file: AR80C.TXT\n",
      "Successfully extracted from text file: AR80F.TXT\n",
      "Successfully extracted from text file: AR83C.TXT\n",
      "Successfully extracted from text file: AR83F.TXT\n",
      "Successfully extracted from text file: AR85C.TXT\n",
      "Successfully extracted from text file: AR85F.TXT\n",
      "Successfully extracted from text file: AR87C.TXT\n",
      "Successfully extracted from text file: AR87F.TXT\n",
      "Successfully extracted from text file: AR91C.TXT\n",
      "Successfully extracted from text file: AR91F.TXT\n",
      "Successfully extracted from text file: AR95C.TXT\n",
      "Successfully extracted from text file: AR95F.TXT\n",
      "Successfully extracted from Excel file: ar_1975_constituinte.xls\n",
      "Successfully extracted from Excel file: ar_1976.xls\n",
      "Successfully extracted from Excel file: ar_1979_intercalar.xls\n",
      "Successfully extracted from Excel file: ar_1980.xls\n",
      "Successfully extracted from Excel file: ar_1983.xls\n",
      "Successfully extracted from Excel file: ar_1985.xls\n",
      "Successfully extracted from Excel file: ar_1987.xls\n",
      "Successfully extracted from Excel file: ar_1991.xls\n",
      "Successfully extracted from Excel file: ar_1995.xls\n",
      "Successfully extracted from Excel file: ar_1999.xls\n",
      "Successfully extracted from Excel file: ar_2002.xls\n",
      "Successfully extracted from Excel file: ar_2005.xls\n",
      "Successfully extracted from Excel file: ar_2009.xls\n",
      "Successfully extracted from Excel file: ar_2011.xls\n",
      "Successfully saved: Ar76c.xlsx to Extracted_Data folder\n",
      "Successfully saved: Ar76f.xlsx to Extracted_Data folder\n",
      "Successfully saved: AR79C.xlsx to Extracted_Data folder\n",
      "Successfully saved: AR79F.xlsx to Extracted_Data folder\n",
      "Successfully saved: AR80C.xlsx to Extracted_Data folder\n",
      "Successfully saved: AR80F.xlsx to Extracted_Data folder\n",
      "Successfully saved: AR83C.xlsx to Extracted_Data folder\n",
      "Successfully saved: AR83F.xlsx to Extracted_Data folder\n",
      "Successfully saved: AR85C.xlsx to Extracted_Data folder\n",
      "Successfully saved: AR85F.xlsx to Extracted_Data folder\n",
      "Successfully saved: AR87C.xlsx to Extracted_Data folder\n",
      "Successfully saved: AR87F.xlsx to Extracted_Data folder\n",
      "Successfully saved: AR91C.xlsx to Extracted_Data folder\n",
      "Successfully saved: AR91F.xlsx to Extracted_Data folder\n",
      "Successfully saved: AR95C.xlsx to Extracted_Data folder\n",
      "Successfully saved: AR95F.xlsx to Extracted_Data folder\n",
      "Successfully saved: ar_1975_constituinte.xlsx to Extracted_Data folder\n",
      "Successfully saved: ar_1976.xlsx to Extracted_Data folder\n",
      "Successfully saved: ar_1979_intercalar.xlsx to Extracted_Data folder\n",
      "Successfully saved: ar_1980.xlsx to Extracted_Data folder\n",
      "Successfully saved: ar_1983.xlsx to Extracted_Data folder\n",
      "Successfully saved: ar_1985.xlsx to Extracted_Data folder\n",
      "Successfully saved: ar_1987.xlsx to Extracted_Data folder\n",
      "Successfully saved: ar_1991.xlsx to Extracted_Data folder\n",
      "Successfully saved: ar_1995.xlsx to Extracted_Data folder\n",
      "Successfully saved: ar_1999.xlsx to Extracted_Data folder\n",
      "Successfully saved: ar_2002.xlsx to Extracted_Data folder\n",
      "Successfully saved: ar_2005.xlsx to Extracted_Data folder\n",
      "Successfully saved: ar_2009.xlsx to Extracted_Data folder\n",
      "Successfully saved: ar_2011.xlsx to Extracted_Data folder\n"
     ]
    }
   ],
   "source": [
    "\n",
    "## Define directories\n",
    "DATA_dir = './DATA FILES/Source_Data/'\n",
    "extracted_data_dir = './DATA FILES/Extracted_Data/'\n",
    "\n",
    "## Create output directories if they don't exist\n",
    "os.makedirs(extracted_data_dir, exist_ok=True)\n",
    "\n",
    "## List to store tuples of (DataFrame, file_type, file_name)\n",
    "dataframe_infos = []\n",
    "\n",
    "## Extract data from all files\n",
    "for file_path in iter_file_paths(DATA_dir):\n",
    "    file_name = os.path.basename(file_path)\n",
    "    base_name, ext = os.path.splitext(file_name)\n",
    "    \n",
    "    try:\n",
    "        ## Extract data based on file type\n",
    "        if ext.lower() == '.txt':\n",
    "            df = extract_dataframe_from_txt(file_path)\n",
    "            print(f\"Successfully extracted from text file: {file_name}\")\n",
    "        elif ext.lower() in ['.xls', '.xlsx']:\n",
    "            df = extract_dataframe_from_excel(file_path)\n",
    "            print(f\"Successfully extracted from Excel file: {file_name}\")\n",
    "        else:\n",
    "            print(f\"Skipping unsupported file: {file_name}\")\n",
    "            continue\n",
    "        \n",
    "        ## Store the DataFrame with its metadata\n",
    "        dataframe_infos.append((df, ext.lower(), base_name))\n",
    "    except Exception as e:\n",
    "        print(f\"Error processing {file_name}: {e}\")\n",
    "\n",
    "## Save all DataFrames to Excel files in the Extracted_Data directory\n",
    "for df, ext, base_name in dataframe_infos:\n",
    "    output_path = os.path.join(extracted_data_dir, f\"{base_name}.xlsx\")\n",
    "    try:\n",
    "        save_dataframe_to_excel(df, output_path)\n",
    "        print(f\"Successfully saved: {base_name}.xlsx to Extracted_Data folder\")\n",
    "    except Exception as e:\n",
    "        print(f\"Error saving {base_name}.xlsx: {e}\")\n"
   ]
  },
  {
   "cell_type": "markdown",
   "metadata": {},
   "source": [
    "### Cleaning the Data\n",
    "#### Data from DATA FILES/Extracted_Data is cleaned and the clean data is saved into DATA FILES/Cleaned_Data"
   ]
  },
  {
   "cell_type": "code",
   "execution_count": null,
   "metadata": {},
   "outputs": [],
   "source": [
    "## cleaning data block"
   ]
  },
  {
   "cell_type": "markdown",
   "metadata": {},
   "source": [
    "### Creating SQL DDL/DML scripts to transform the raw excel data into SQL tables"
   ]
  },
  {
   "cell_type": "code",
   "execution_count": null,
   "metadata": {},
   "outputs": [],
   "source": [
    "# Directory containing the data files\n",
    "data_dir = './Data_Selected'\n",
    "output_dir = './sql_scripts/ddl-dml/'\n",
    "\n",
    "# Create the output directory if it doesn't exist\n",
    "if not os.path.exists(output_dir):\n",
    "    os.makedirs(output_dir)\n",
    "\n",
    "# Loop through every file in the data directory using the iter_file_paths function\n",
    "for file_path in iter_file_paths(data_dir):\n",
    "    file_name = os.path.basename(file_path)\n",
    "    \n",
    "    # Process the file using your SQL DDL function\n",
    "    try:\n",
    "        _, sql_script = generate_ddl_from_file(file_path)\n",
    "    except Exception as e:\n",
    "        print(f\"Error processing {file_name}: {e}\")\n",
    "        continue\n",
    "    \n",
    "    # Build the output file name based on the original file's name\n",
    "    base_name, _ = os.path.splitext(file_name)\n",
    "    output_file = os.path.join(output_dir, base_name + '.sql')\n",
    "    \n",
    "    # Write the generated SQL script to the output file\n",
    "    with open(output_file, 'w') as f:\n",
    "        f.write(sql_script)\n",
    "    \n",
    "    print(f\"SQL script for {file_name} saved to {output_file}\")\n"
   ]
  },
  {
   "cell_type": "markdown",
   "metadata": {},
   "source": [
    "### cells below are explicitly for testing / debugging purposes"
   ]
  },
  {
   "cell_type": "code",
   "execution_count": null,
   "metadata": {},
   "outputs": [],
   "source": []
  }
 ],
 "metadata": {
  "kernelspec": {
   "display_name": ".venv",
   "language": "python",
   "name": "python3"
  },
  "language_info": {
   "codemirror_mode": {
    "name": "ipython",
    "version": 3
   },
   "file_extension": ".py",
   "mimetype": "text/x-python",
   "name": "python",
   "nbconvert_exporter": "python",
   "pygments_lexer": "ipython3",
   "version": "3.12.8"
  }
 },
 "nbformat": 4,
 "nbformat_minor": 2
}
