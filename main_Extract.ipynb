{
 "cells": [
  {
   "cell_type": "markdown",
   "metadata": {},
   "source": [
    "# Main_DDL\n",
    "---\n",
    "## This file is responsible for reading the raw data, cleaning it, and transforming the data into SQL files for implementation in the server containing the database\n",
    "\n",
    "### Import Statements"
   ]
  },
  {
   "cell_type": "code",
   "execution_count": 3,
   "metadata": {},
   "outputs": [],
   "source": [
    "import pandas as pd\n",
    "import os\n",
    "import io\n",
    "import openpyxl\n",
    "from myMethods import (\n",
    "    iter_file_paths,\n",
    "    extract_dataframe_from_txt,\n",
    "    extract_dataframe_from_excel,\n",
    "    # parse_FC_data_1,\n",
    "    parse_FC_data_2,\n",
    "    # parse_FC_data_3,\n",
    "    save_dataframe_to_excel,\n",
    "    generate_ddl_from_file, ## may be deprecated\n",
    ")"
   ]
  },
  {
   "cell_type": "markdown",
   "metadata": {},
   "source": [
    "### Reading the Data\n",
    "#### Data from DATA FILES/Source_Data is extracted into DATA FILES/Extracted_Data"
   ]
  },
  {
   "cell_type": "code",
   "execution_count": 4,
   "metadata": {},
   "outputs": [
    {
     "name": "stdout",
     "output_type": "stream",
     "text": [
      "Successfully extracted from text file: Ar76c.txt\n",
      "Successfully saved: ./DATA FILES/Extracted_Data/Ar76c_1.xlsx to Extracted_Data folder\n",
      "Successfully extracted from text file: Ar76f.txt\n",
      "Successfully saved: ./DATA FILES/Extracted_Data/Ar76f_1.xlsx to Extracted_Data folder\n",
      "Successfully extracted from text file: AR79C.TXT\n",
      "Successfully saved: ./DATA FILES/Extracted_Data/AR79C_1.xlsx to Extracted_Data folder\n",
      "Successfully extracted from text file: AR79F.TXT\n",
      "Successfully saved: ./DATA FILES/Extracted_Data/AR79F_1.xlsx to Extracted_Data folder\n",
      "Successfully extracted from text file: AR80C.TXT\n",
      "Successfully saved: ./DATA FILES/Extracted_Data/AR80C_1.xlsx to Extracted_Data folder\n",
      "Successfully extracted from text file: AR80F.TXT\n",
      "Successfully saved: ./DATA FILES/Extracted_Data/AR80F_1.xlsx to Extracted_Data folder\n",
      "Successfully extracted from text file: AR83C.TXT\n",
      "Successfully saved: ./DATA FILES/Extracted_Data/AR83C_1.xlsx to Extracted_Data folder\n",
      "Successfully extracted from text file: AR83F.TXT\n",
      "Successfully saved: ./DATA FILES/Extracted_Data/AR83F_1.xlsx to Extracted_Data folder\n",
      "Successfully extracted from text file: AR85C.TXT\n",
      "Successfully saved: ./DATA FILES/Extracted_Data/AR85C_1.xlsx to Extracted_Data folder\n",
      "Successfully extracted from text file: AR85F.TXT\n",
      "Successfully saved: ./DATA FILES/Extracted_Data/AR85F_1.xlsx to Extracted_Data folder\n",
      "Successfully extracted from text file: AR87C.TXT\n",
      "Successfully saved: ./DATA FILES/Extracted_Data/AR87C_1.xlsx to Extracted_Data folder\n",
      "Successfully extracted from text file: AR87F.TXT\n",
      "Successfully saved: ./DATA FILES/Extracted_Data/AR87F_1.xlsx to Extracted_Data folder\n",
      "Successfully extracted from text file: AR91C.TXT\n",
      "Successfully saved: ./DATA FILES/Extracted_Data/AR91C_1.xlsx to Extracted_Data folder\n",
      "Successfully extracted from text file: AR91F.TXT\n",
      "Successfully saved: ./DATA FILES/Extracted_Data/AR91F_1.xlsx to Extracted_Data folder\n",
      "Successfully extracted from text file: AR95C.TXT\n",
      "Successfully saved: ./DATA FILES/Extracted_Data/AR95C_1.xlsx to Extracted_Data folder\n",
      "Successfully extracted from text file: AR95F.TXT\n",
      "Successfully saved: ./DATA FILES/Extracted_Data/AR95F_1.xlsx to Extracted_Data folder\n",
      "Successfully extracted from Excel file: ar_1975_constituinte.xls\n",
      "Successfully saved: ./DATA FILES/Extracted_Data/ar_1975_constituinte_1.xlsx to Extracted_Data folder\n",
      "Successfully extracted from Excel file: ar_1976.xls\n",
      "Successfully saved: ./DATA FILES/Extracted_Data/ar_1976_1.xlsx to Extracted_Data folder\n",
      "Successfully extracted from Excel file: ar_1979_intercalar.xls\n",
      "Successfully saved: ./DATA FILES/Extracted_Data/ar_1979_intercalar_1.xlsx to Extracted_Data folder\n",
      "Successfully extracted from Excel file: ar_1980.xls\n",
      "Successfully saved: ./DATA FILES/Extracted_Data/ar_1980_1.xlsx to Extracted_Data folder\n",
      "Successfully extracted from Excel file: ar_1983.xls\n",
      "Successfully saved: ./DATA FILES/Extracted_Data/ar_1983_1.xlsx to Extracted_Data folder\n",
      "Successfully extracted from Excel file: ar_1985.xls\n",
      "Successfully saved: ./DATA FILES/Extracted_Data/ar_1985_1.xlsx to Extracted_Data folder\n",
      "Successfully extracted from Excel file: ar_1987.xls\n",
      "Successfully saved: ./DATA FILES/Extracted_Data/ar_1987_1.xlsx to Extracted_Data folder\n",
      "Successfully extracted from Excel file: ar_1991.xls\n",
      "Successfully saved: ./DATA FILES/Extracted_Data/ar_1991_1.xlsx to Extracted_Data folder\n",
      "Successfully extracted from Excel file: ar_1995.xls\n",
      "Successfully saved: ./DATA FILES/Extracted_Data/ar_1995_1.xlsx to Extracted_Data folder\n",
      "Successfully extracted from Excel file: ar_1999.xls\n",
      "Successfully saved: ./DATA FILES/Extracted_Data/ar_1999_1.xlsx to Extracted_Data folder\n",
      "Successfully extracted from Excel file: ar_2002.xls\n",
      "Successfully saved: ./DATA FILES/Extracted_Data/ar_2002_1.xlsx to Extracted_Data folder\n",
      "Successfully extracted from Excel file: ar_2005.xls\n",
      "Successfully saved: ./DATA FILES/Extracted_Data/ar_2005_1.xlsx to Extracted_Data folder\n",
      "Successfully extracted from Excel file: ar_2009.xls\n",
      "Successfully saved: ./DATA FILES/Extracted_Data/ar_2009_1.xlsx to Extracted_Data folder\n",
      "Successfully extracted from Excel file: ar_2011.xls\n",
      "Successfully saved: ./DATA FILES/Extracted_Data/ar_2011_1.xlsx to Extracted_Data folder\n"
     ]
    }
   ],
   "source": [
    "\n",
    "## Define directories\n",
    "DATA_dir = './DATA FILES/Source_Data/'\n",
    "extracted_data_dir = './DATA FILES/Extracted_Data/'\n",
    "\n",
    "## Create output directories if they don't exist\n",
    "os.makedirs(extracted_data_dir, exist_ok=True)\n",
    "\n",
    "## List to store tuples of (DataFrame, file_type, file_name)\n",
    "dataframe_infos = []\n",
    "\n",
    "## Extract data from all files\n",
    "for file_path in iter_file_paths(DATA_dir):\n",
    "    file_name = os.path.basename(file_path)\n",
    "    base_name, ext = os.path.splitext(file_name)\n",
    "    \n",
    "    try:\n",
    "        ## Extract data based on file type\n",
    "        if ext.lower() == '.txt':\n",
    "            df = extract_dataframe_from_txt(file_path, _encoding='cp1252')\n",
    "            print(f\"Successfully extracted from text file: {file_name}\")\n",
    "        elif ext.lower() in ['.xls', '.xlsx']:\n",
    "            df = extract_dataframe_from_excel(file_path)\n",
    "            print(f\"Successfully extracted from Excel file: {file_name}\")\n",
    "        else:\n",
    "            print(f\"Skipping unsupported file: {file_name}\")\n",
    "            continue\n",
    "        \n",
    "        ## Store the DataFrame with its metadata\n",
    "        dataframe_infos.append([df.info(buf= io.StringIO()), ext.lower(), base_name])\n",
    "        \n",
    "        ## Export the DataFrame to Excel\n",
    "        output_path = os.path.join(extracted_data_dir, f\"{base_name}.xlsx\")\n",
    "        save_dataframe_to_excel(df, output_path)\n",
    "        \n",
    "    ## Handle specific exceptions for parsing\n",
    "    except Exception as e:\n",
    "        print(f\"Error processing {file_name}: {e}\")\n"
   ]
  },
  {
   "cell_type": "code",
   "execution_count": null,
   "metadata": {},
   "outputs": [],
   "source": [
    "## check dataframes info\n",
    "for df_info, ext, base_name in dataframe_infos:\n",
    "    print(f\"DataFrame info for {base_name}:\")\n",
    "    print(df_info)\n",
    "    print(f\"Source file name: {base_name}\")\n",
    "    print(f\"Source file type: {ext}\\n\")"
   ]
  },
  {
   "cell_type": "markdown",
   "metadata": {},
   "source": [
    "### Cleaning the Data\n",
    "#### Data from DATA FILES/Extracted_Data is cleaned and the clean data is saved into DATA FILES/Cleaned_Data"
   ]
  },
  {
   "cell_type": "code",
   "execution_count": null,
   "metadata": {},
   "outputs": [],
   "source": [
    "## cleaning data block"
   ]
  },
  {
   "cell_type": "markdown",
   "metadata": {},
   "source": [
    "### cells below are explicitly for testing / debugging purposes"
   ]
  },
  {
   "cell_type": "code",
   "execution_count": null,
   "metadata": {},
   "outputs": [],
   "source": [
    "## testing format of Ar76f.txt file\n",
    "## Read the file and extract the DataFrame\n",
    "file_path = './DATA FILES/Source_Data/Ar76f.txt'\n",
    "df = extract_dataframe_from_txt(file_path, _encoding='cp1252')\n",
    "save_dataframe_to_excel(df, './DATA FILES/Extracted_Data/Ar76f.xlsx')"
   ]
  }
 ],
 "metadata": {
  "kernelspec": {
   "display_name": ".venv",
   "language": "python",
   "name": "python3"
  },
  "language_info": {
   "codemirror_mode": {
    "name": "ipython",
    "version": 3
   },
   "file_extension": ".py",
   "mimetype": "text/x-python",
   "name": "python",
   "nbconvert_exporter": "python",
   "pygments_lexer": "ipython3",
   "version": "3.12.8"
  }
 },
 "nbformat": 4,
 "nbformat_minor": 2
}
