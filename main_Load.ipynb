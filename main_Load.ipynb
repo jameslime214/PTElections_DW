{
 "cells": [
  {
   "cell_type": "markdown",
   "metadata": {},
   "source": [
    "## This file is responsible for transforming the prepared data into SQL files for implementation in the server containing the database\n",
    "### Import statements"
   ]
  },
  {
   "cell_type": "code",
   "execution_count": 1,
   "metadata": {},
   "outputs": [],
   "source": [
    "import numpy as np\n",
    "import pandas as pd\n",
    "import os\n",
    "import io\n",
    "import openpyxl\n",
    "from myDataMethods import iter_filepaths\n",
    "from mySequelMethods import generate_ddl_from_excel, save_sql_script"
   ]
  },
  {
   "cell_type": "markdown",
   "metadata": {},
   "source": [
    "### Creating SQL DDL/DML scripts to transform the raw excel data into SQL tables"
   ]
  },
  {
   "cell_type": "code",
   "execution_count": null,
   "metadata": {},
   "outputs": [],
   "source": [
    "## Directory containing the data files\n",
    "data_dir = './Data_Selected'\n",
    "output_dir = './sql_scripts/ddl-dml/'\n",
    "\n",
    "## Create the output directory if it doesn't exist\n",
    "if not os.path.exists(output_dir):\n",
    "    os.makedirs(output_dir)\n",
    "\n",
    "## Loop through every file in the data directory using the iter_file_paths function\n",
    "for file_path in iter_filepaths(data_dir):\n",
    "    file_name = os.path.basename(file_path)\n",
    "    \n",
    "    ## Process the file using your SQL DDL function\n",
    "    try:\n",
    "        _, sql_script = generate_ddl_from_excel(file_path)\n",
    "    except Exception as e:\n",
    "        print(f\"Error processing {file_name}: {e}\")\n",
    "        continue\n",
    "    \n",
    "    ## Build the output file name based on the original file's name\n",
    "    base_name, _ = os.path.splitext(file_name)\n",
    "    output_file = os.path.join(output_dir, base_name + '.sql')\n",
    "    \n",
    "    ## Write the generated SQL script to the output file\n",
    "    with open(output_file, 'w') as f:\n",
    "        f.write(sql_script)\n",
    "    \n",
    "    print(f\"SQL script for {file_name} saved to {output_file}\")\n"
   ]
  },
  {
   "cell_type": "markdown",
   "metadata": {},
   "source": [
    "---\n",
    "\n",
    "### cells below are explicitly for testing / debugging purposes"
   ]
  },
  {
   "cell_type": "code",
   "execution_count": 2,
   "metadata": {},
   "outputs": [
    {
     "name": "stdout",
     "output_type": "stream",
     "text": [
      "Successfully saved Ar76c.sql to ./SQL_scripts/ddl-dml/\n",
      "Successfully saved Ar76f.sql to ./SQL_scripts/ddl-dml/\n",
      "Successfully saved AR79C.sql to ./SQL_scripts/ddl-dml/\n",
      "Successfully saved AR79F.sql to ./SQL_scripts/ddl-dml/\n",
      "Successfully saved AR80C.sql to ./SQL_scripts/ddl-dml/\n",
      "Successfully saved AR80F.sql to ./SQL_scripts/ddl-dml/\n",
      "Successfully saved AR83C.sql to ./SQL_scripts/ddl-dml/\n",
      "Successfully saved AR83F.sql to ./SQL_scripts/ddl-dml/\n",
      "Successfully saved AR85C.sql to ./SQL_scripts/ddl-dml/\n",
      "Successfully saved AR85F.sql to ./SQL_scripts/ddl-dml/\n",
      "Successfully saved AR87C.sql to ./SQL_scripts/ddl-dml/\n",
      "Successfully saved AR87F.sql to ./SQL_scripts/ddl-dml/\n",
      "Successfully saved AR91C.sql to ./SQL_scripts/ddl-dml/\n",
      "Successfully saved AR91F.sql to ./SQL_scripts/ddl-dml/\n",
      "Successfully saved AR95C.sql to ./SQL_scripts/ddl-dml/\n",
      "Successfully saved AR95F.sql to ./SQL_scripts/ddl-dml/\n",
      "Successfully saved ar_1975_constituinte_1.sql to ./SQL_scripts/ddl-dml/\n",
      "Successfully saved ar_1976_1.sql to ./SQL_scripts/ddl-dml/\n",
      "Successfully saved ar_1979_intercalar_1.sql to ./SQL_scripts/ddl-dml/\n",
      "Successfully saved ar_1980_1.sql to ./SQL_scripts/ddl-dml/\n",
      "Successfully saved ar_1983_1.sql to ./SQL_scripts/ddl-dml/\n",
      "Successfully saved ar_1985_1.sql to ./SQL_scripts/ddl-dml/\n",
      "Successfully saved ar_1987_1.sql to ./SQL_scripts/ddl-dml/\n",
      "Successfully saved ar_1991_1.sql to ./SQL_scripts/ddl-dml/\n",
      "Successfully saved ar_1995_1.sql to ./SQL_scripts/ddl-dml/\n",
      "Successfully saved ar_1999_1.sql to ./SQL_scripts/ddl-dml/\n",
      "Successfully saved ar_2002_1.sql to ./SQL_scripts/ddl-dml/\n",
      "Successfully saved ar_2005_1.sql to ./SQL_scripts/ddl-dml/\n",
      "Successfully saved ar_2009_1.sql to ./SQL_scripts/ddl-dml/\n",
      "Successfully saved ar_2011_1.sql to ./SQL_scripts/ddl-dml/\n"
     ]
    }
   ],
   "source": [
    "# Directory containing the data files\n",
    "data_dir = './DATA FILES/Cleaned_Data/'\n",
    "output_dir = './SQL_scripts/ddl-dml/'\n",
    "\n",
    "# Create the output directory if it doesn't exist\n",
    "if not os.path.exists(output_dir):\n",
    "    os.makedirs(output_dir)\n",
    "\n",
    "# Loop through every file in the data directory using iter_filepaths\n",
    "for file_path in iter_filepaths(data_dir):\n",
    "    file_name = os.path.basename(file_path)\n",
    "    \n",
    "    # Process the file using the SQL DDL generation function\n",
    "    try:\n",
    "        _, sql_script = generate_ddl_from_excel(file_path)\n",
    "    except Exception as e:\n",
    "        print(f\"Error processing {file_name}: {e}\")\n",
    "        continue\n",
    "    \n",
    "    # Save the SQL script using the custom function (the file name is derived from the script)\n",
    "    save_sql_script(sql_script, output_dir)\n"
   ]
  }
 ],
 "metadata": {
  "kernelspec": {
   "display_name": ".venv",
   "language": "python",
   "name": "python3"
  },
  "language_info": {
   "codemirror_mode": {
    "name": "ipython",
    "version": 3
   },
   "file_extension": ".py",
   "mimetype": "text/x-python",
   "name": "python",
   "nbconvert_exporter": "python",
   "pygments_lexer": "ipython3",
   "version": "3.12.8"
  }
 },
 "nbformat": 4,
 "nbformat_minor": 2
}
