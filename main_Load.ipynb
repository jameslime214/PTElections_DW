{
 "cells": [
  {
   "cell_type": "markdown",
   "metadata": {},
   "source": [
    "## This file is responsible for transforming the prepared data into SQL files for implementation in the server containing the database\n",
    "### Import statements"
   ]
  },
  {
   "cell_type": "code",
   "execution_count": null,
   "metadata": {},
   "outputs": [],
   "source": [
    "import os\n",
    "from myDataMethods import iter_filepaths\n",
    "from mySequelMethods import generate_ddl_from_excel, save_sql_script"
   ]
  },
  {
   "cell_type": "markdown",
   "metadata": {},
   "source": [
    "### Creating SQL DDL/DML scripts to transform the raw excel data into SQL tables"
   ]
  },
  {
   "cell_type": "code",
   "execution_count": null,
   "metadata": {},
   "outputs": [
    {
     "name": "stdout",
     "output_type": "stream",
     "text": [
      "Successfully saved ar76c.sql to ./SQL_scripts/ddl-dml/\n",
      "Successfully saved ar76f.sql to ./SQL_scripts/ddl-dml/\n",
      "Successfully saved ar79c.sql to ./SQL_scripts/ddl-dml/\n",
      "Successfully saved ar79f.sql to ./SQL_scripts/ddl-dml/\n",
      "Successfully saved ar80c.sql to ./SQL_scripts/ddl-dml/\n",
      "Successfully saved ar80f.sql to ./SQL_scripts/ddl-dml/\n",
      "Successfully saved ar83c.sql to ./SQL_scripts/ddl-dml/\n",
      "Successfully saved ar83f.sql to ./SQL_scripts/ddl-dml/\n",
      "Successfully saved ar85c.sql to ./SQL_scripts/ddl-dml/\n",
      "Successfully saved ar85f.sql to ./SQL_scripts/ddl-dml/\n",
      "Successfully saved ar87c.sql to ./SQL_scripts/ddl-dml/\n",
      "Successfully saved ar87f.sql to ./SQL_scripts/ddl-dml/\n",
      "Successfully saved ar91c.sql to ./SQL_scripts/ddl-dml/\n",
      "Successfully saved ar91f.sql to ./SQL_scripts/ddl-dml/\n",
      "Successfully saved ar95c.sql to ./SQL_scripts/ddl-dml/\n",
      "Successfully saved ar95f.sql to ./SQL_scripts/ddl-dml/\n",
      "Successfully saved ar_1975_constituinte.sql to ./SQL_scripts/ddl-dml/\n",
      "Successfully saved ar_1976.sql to ./SQL_scripts/ddl-dml/\n",
      "Successfully saved ar_1979_intercalar.sql to ./SQL_scripts/ddl-dml/\n",
      "Successfully saved ar_1980.sql to ./SQL_scripts/ddl-dml/\n",
      "Successfully saved ar_1983.sql to ./SQL_scripts/ddl-dml/\n",
      "Successfully saved ar_1985.sql to ./SQL_scripts/ddl-dml/\n",
      "Successfully saved ar_1987.sql to ./SQL_scripts/ddl-dml/\n",
      "Successfully saved ar_1991.sql to ./SQL_scripts/ddl-dml/\n",
      "Successfully saved ar_1995.sql to ./SQL_scripts/ddl-dml/\n",
      "Successfully saved ar_1999.sql to ./SQL_scripts/ddl-dml/\n",
      "Successfully saved ar_2002.sql to ./SQL_scripts/ddl-dml/\n",
      "Successfully saved ar_2005.sql to ./SQL_scripts/ddl-dml/\n",
      "Successfully saved ar_2009.sql to ./SQL_scripts/ddl-dml/\n",
      "Successfully saved ar_2011.sql to ./SQL_scripts/ddl-dml/\n"
     ]
    }
   ],
   "source": [
    "\n",
    "## Directory containing the data files\n",
    "data_dir = './DATA FILES/Cleaned_Data/'\n",
    "output_dir = './SQL_scripts/ddl-dml/'\n",
    "\n",
    "## Create the output directory if it doesn't exist\n",
    "if not os.path.exists(output_dir):\n",
    "    os.makedirs(output_dir)\n",
    "\n",
    "## Loop through every file in the data directory using iter_filepaths\n",
    "for file_path in iter_filepaths(data_dir):\n",
    "    file_name = os.path.basename(file_path)\n",
    "    \n",
    "    ## Process the file using the SQL DDL generation function\n",
    "    try:\n",
    "        _, sql_script = generate_ddl_from_excel(file_path)\n",
    "    except Exception as e:\n",
    "        print(f\"Error processing {file_name}: {e}\")\n",
    "        continue\n",
    "    \n",
    "    ## Save the SQL script using the custom function (the file name is derived from the script)\n",
    "    save_sql_script(sql_script, output_dir)\n"
   ]
  },
  {
   "cell_type": "markdown",
   "metadata": {},
   "source": [
    "---\n",
    "\n",
    "### cells below are explicitly for testing / debugging purposes"
   ]
  },
  {
   "cell_type": "code",
   "execution_count": null,
   "metadata": {},
   "outputs": [],
   "source": [
    "## tests"
   ]
  }
 ],
 "metadata": {
  "kernelspec": {
   "display_name": ".venv",
   "language": "python",
   "name": "python3"
  },
  "language_info": {
   "codemirror_mode": {
    "name": "ipython",
    "version": 3
   },
   "file_extension": ".py",
   "mimetype": "text/x-python",
   "name": "python",
   "nbconvert_exporter": "python",
   "pygments_lexer": "ipython3",
   "version": "3.12.8"
  }
 },
 "nbformat": 4,
 "nbformat_minor": 2
}
